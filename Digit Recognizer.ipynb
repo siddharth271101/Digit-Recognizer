{
 "cells": [
  {
   "cell_type": "code",
   "execution_count": 1,
   "metadata": {},
   "outputs": [
    {
     "name": "stderr",
     "output_type": "stream",
     "text": [
      "Using TensorFlow backend.\n"
     ]
    }
   ],
   "source": [
    "from keras.utils.np_utils import to_categorical # convert to one-hot-encoding\n",
    "from keras.models import Sequential\n",
    "from keras.layers import Dense, Dropout, Flatten, Conv2D, MaxPool2D\n",
    "from keras.optimizers import RMSprop\n",
    "from keras.preprocessing.image import ImageDataGenerator\n",
    "from keras.callbacks import ReduceLROnPlateau\n",
    "\n",
    "from sklearn.model_selection import train_test_split\n",
    "import pandas as pd\n",
    "import numpy as np\n",
    "\n",
    "import matplotlib.pyplot as plt\n",
    "import matplotlib.image as mpimg\n",
    "import seaborn as sns"
   ]
  },
  {
   "cell_type": "code",
   "execution_count": 2,
   "metadata": {},
   "outputs": [
    {
     "data": {
      "text/plain": [
       "'C:\\\\Users\\\\sidft\\\\Documents\\\\digit-recognizer'"
      ]
     },
     "execution_count": 2,
     "metadata": {},
     "output_type": "execute_result"
    }
   ],
   "source": [
    "pwd\n"
   ]
  },
  {
   "cell_type": "code",
   "execution_count": 3,
   "metadata": {
    "scrolled": true
   },
   "outputs": [],
   "source": [
    "train = pd.read_csv('C://Users//sidft//Documents//digit-recognizer/train.csv')"
   ]
  },
  {
   "cell_type": "code",
   "execution_count": 4,
   "metadata": {},
   "outputs": [],
   "source": [
    "test = pd.read_csv('C://Users//sidft//Documents//digit-recognizer/test.csv')"
   ]
  },
  {
   "cell_type": "code",
   "execution_count": 5,
   "metadata": {},
   "outputs": [
    {
     "name": "stdout",
     "output_type": "stream",
     "text": [
      "<class 'pandas.core.frame.DataFrame'>\n",
      "RangeIndex: 42000 entries, 0 to 41999\n",
      "Columns: 785 entries, label to pixel783\n",
      "dtypes: int64(785)\n",
      "memory usage: 251.5 MB\n"
     ]
    }
   ],
   "source": [
    "train.info()"
   ]
  },
  {
   "cell_type": "markdown",
   "metadata": {},
   "source": [
    "<b>785 columns corresponding to 784 values(28*28) and a label.</b>"
   ]
  },
    {
   "cell_type": "markdown",
   "metadata": {},
   "source": [
    "<b>The output variable is an integer ranging from 0 to 9.Therefore it is a multiclass classification problem. </b>"
   ]
  },
  {
   "cell_type": "code",
   "execution_count": 6,
   "metadata": {},
   "outputs": [],
   "source": [
    "y_train = train['label']\n",
    "\n",
    "# Drop 'label' column\n",
    "X_train = train.drop(labels = ['label'],axis = 1) "
   ]
  },

  {
   "cell_type": "code",
   "execution_count": 7,
   "metadata": {},
   "outputs": [
    {
     "data": {
      "image/png": "[encoded data removed]",
      "text/plain": [
       "<Figure size 432x288 with 1 Axes>"
      ]
     },
     "metadata": {
      "needs_background": "light"
     },
     "output_type": "display_data"
    }
   ],
   "source": [
    "g = sns.countplot(y_train)"
   ]
  },
  {
   "cell_type": "markdown",
   "metadata": {},
   "source": [
    "<b>We can see that the counts for all digits are similar.</b>"
   ]
  },
  {
   "cell_type": "code",
   "execution_count": 8,
   "metadata": {},
   "outputs": [
    {
     "data": {
      "text/plain": [
       "0"
      ]
     },
     "execution_count": 8,
     "metadata": {},
     "output_type": "execute_result"
    }
   ],
   "source": [
    "X_train.isnull().any().sum()"
   ]
  },
  {
   "cell_type": "code",
   "execution_count": 9,
   "metadata": {},
   "outputs": [
    {
     "data": {
      "text/plain": [
       "0"
      ]
     },
     "execution_count": 9,
     "metadata": {},
     "output_type": "execute_result"
    }
   ],
   "source": [
    "test.isnull().any().sum()"
   ]
  },
  {
   "cell_type": "markdown",
   "metadata": {},
   "source": [
    "<b>There are no missing values in train and test dataset.</b>"
   ]
  },
  {
   "cell_type": "code",
   "execution_count": 10,
   "metadata": {},
   "outputs": [],
   "source": [
    "X_train = X_train.values.reshape(-1,28,28,1)\n",
    "test = test.values.reshape(-1,28,28,1)"
   ]
  },
  {
   "cell_type": "markdown",
   "metadata": {},
   "source": [
    "<b>Now we reshape our data,keras requires an extra dimension which represents the number of channels.In the case of RGB images the number of channels would be 3,but since in this MNIST dataset we are dealing with gray scale images the number of channels is one.Train and test images each of 28px x 28px, these are represented in a pandas Dataframe as 1D vectors of 784 values. We reshape all data to 28x28x1 3D matrices.</b>"
   ]
  },
  {
   "cell_type": "code",
   "execution_count": 11,
   "metadata": {},
   "outputs": [],
   "source": [
    "X_train = X_train / 255.0\n",
    "test = test / 255.0"
   ]
  },
  {
   "cell_type": "markdown",
   "metadata": {},
   "source": [
    "<b>Here we centre our data around zero mean,this allows the CNN to converge faster.</b>\n"
   ]
  },
  {
   "cell_type": "code",
   "execution_count": 12,
   "metadata": {},
   "outputs": [],
   "source": [
    "y_train = to_categorical(y_train, num_classes = 10)"
   ]
  },
  {
   "cell_type": "markdown",
   "metadata": {},
   "source": [
    "<b>Labels have values ranging from 0-9.we encode these labels to one hot vectors.For example,3 is represented as [0,0,1,0,0,0,0,0,0,0].</b>"
   ]
  },
  {
   "cell_type": "code",
   "execution_count": 13,
   "metadata": {},
   "outputs": [],
   "source": [
    "seed = 43\n",
    "X_train, X_val, Y_train, Y_val = train_test_split(X_train, y_train, test_size = 0.1, random_state=seed)"
   ]
  },
  {
   "cell_type": "markdown",
   "metadata": {},
   "source": [
    "<b>Here we split our train set into two parts,90% is used to train the model and rest 10% is used  as validation set.As we saw earlier the digits from 0-9 were of similar counts and since our train set has 42000 images the validation set will be well balanced.</b>"
   ]
  },
  {
   "cell_type": "code",
   "execution_count": 14,
   "metadata": {},
   "outputs": [
    {
     "data": {
      "image/png": "[encoded data removed]",
      "text/plain": [
       "<Figure size 432x288 with 1 Axes>"
      ]
     },
     "metadata": {
      "needs_background": "light"
     },
     "output_type": "display_data"
    }
   ],
   "source": [
    "g = plt.imshow(X_train[0][:,:,0])"
   ]
  },
  {
   "cell_type": "markdown",
   "metadata": {},
   "source": [
    "### Creating Neural Network to train model\n",
    "- <b> So here I use 32 filters for the two firsts Conv2D layers and 64 filters for the last two Conv2D layers.For all these layers we give some padding so that the output will be of the same size as the input</b>\n",
    "- <b> Followed by is the Max pooling layer which takes the maximum value from the given set of pixels(in our case it looks at two neighbouring pixels).These are used to reduce the high computational cost,and to some extent also reduce overfitting.</b>\n",
    "- <b>After that is the drop out layer which randomely drops units from the neural network to reduce overfitting.</b>\n",
    "- <b>Then we flatten the data into a 1-dimensional array for inputing it to the fully connected layer.</b>"
   ]
  },
  {
   "cell_type": "code",
   "execution_count": 15,
   "metadata": {},
   "outputs": [],
   "source": [
    "model = Sequential()\n",
    "\n",
    "model.add(Conv2D(32,(3,3),padding = 'Same', activation ='relu', input_shape = (28,28,1)))\n",
    "model.add(Conv2D(32,(3,3),padding = 'Same', activation ='relu'))\n",
    "model.add(MaxPool2D(pool_size=(2,2)))\n",
    "model.add(Dropout(0.25))\n",
    "\n",
    "\n",
    "model.add(Conv2D(64,(3,3),padding = 'Same', activation ='relu'))\n",
    "model.add(Conv2D(64,(3,3),padding = 'Same', activation ='relu'))\n",
    "model.add(MaxPool2D(pool_size=(2,2)))\n",
    "model.add(Dropout(0.25))\n",
    "\n",
    "\n",
    "model.add(Flatten())\n",
    "model.add(Dense(512, activation = \"relu\"))\n",
    "model.add(Dropout(0.5))\n",
    "model.add(Dense(10, activation = \"softmax\"))\n"
   ]
  },
  {
   "cell_type": "markdown",
   "metadata": {},
   "source": [
    "<b>The optimizer used here is RMSprop and loss function is Categorical crossentropy.</b>"
   ]
  },
  {
   "cell_type": "code",
   "execution_count": 16,
   "metadata": {},
   "outputs": [],
   "source": [
    "model.compile(optimizer = RMSprop(lr = 0.001),loss = 'categorical_crossentropy',metrics = ['accuracy'] )"
   ]
  },
  {
   "cell_type": "code",
   "execution_count": 17,
   "metadata": {},
   "outputs": [],
   "source": [
    "epochs = 20\n",
    "batch_size = 86"
   ]
  },
  {
   "cell_type": "markdown",
   "metadata": {},
   "source": [
    "### Data Augmentation\n",
    "<b>This technique is used to address the problem of overfitting.Here we increase the size of our training data by making small changes to the images.Here i did not perform horizontal or vertical flip as it can misclassify symmetrical numbers  like 6 and 9.</b>"
   ]
  },
  {
   "cell_type": "code",
   "execution_count": 18,
   "metadata": {},
   "outputs": [],
   "source": [
    "IDG = ImageDataGenerator(\n",
    "        rotation_range=10,\n",
    "        shear_range=0.3,\n",
    "        zoom_range = 0.1, \n",
    "        width_shift_range=0.1,  \n",
    "        height_shift_range=0.1,  \n",
    "        horizontal_flip=False,  \n",
    "        vertical_flip=False) \n",
    "\n",
    "\n",
    "IDG.fit(X_train)"
   ]
  },
  {
   "cell_type": "code",
   "execution_count": 19,
   "metadata": {
    "scrolled": true
   },
   "outputs": [
    {
     "name": "stdout",
     "output_type": "stream",
     "text": [
      "Epoch 1/20\n",
      " - 112s - loss: 0.3670 - accuracy: 0.8844 - val_loss: 0.0421 - val_accuracy: 0.9881\n",
      "Epoch 2/20\n",
      " - 111s - loss: 0.1191 - accuracy: 0.9635 - val_loss: 0.0358 - val_accuracy: 0.9886\n",
      "Epoch 3/20\n",
      " - 111s - loss: 0.0870 - accuracy: 0.9735 - val_loss: 0.0344 - val_accuracy: 0.9893\n",
      "Epoch 4/20\n",
      " - 111s - loss: 0.0773 - accuracy: 0.9783 - val_loss: 0.0285 - val_accuracy: 0.9907\n",
      "Epoch 5/20\n",
      " - 111s - loss: 0.0673 - accuracy: 0.9805 - val_loss: 0.0369 - val_accuracy: 0.9890\n",
      "Epoch 6/20\n",
      " - 113s - loss: 0.0607 - accuracy: 0.9826 - val_loss: 0.0221 - val_accuracy: 0.9933\n",
      "Epoch 7/20\n",
      " - 117s - loss: 0.0617 - accuracy: 0.9821 - val_loss: 0.0291 - val_accuracy: 0.9929\n",
      "Epoch 8/20\n",
      " - 115s - loss: 0.0575 - accuracy: 0.9832 - val_loss: 0.0296 - val_accuracy: 0.9917\n",
      "Epoch 9/20\n",
      " - 114s - loss: 0.0542 - accuracy: 0.9839 - val_loss: 0.0393 - val_accuracy: 0.9886\n",
      "Epoch 10/20\n",
      " - 112s - loss: 0.0562 - accuracy: 0.9838 - val_loss: 0.0356 - val_accuracy: 0.9910\n",
      "Epoch 11/20\n",
      " - 112s - loss: 0.0548 - accuracy: 0.9849 - val_loss: 0.0256 - val_accuracy: 0.9926\n",
      "Epoch 12/20\n",
      " - 112s - loss: 0.0551 - accuracy: 0.9844 - val_loss: 0.0312 - val_accuracy: 0.9912\n",
      "Epoch 13/20\n",
      " - 111s - loss: 0.0544 - accuracy: 0.9841 - val_loss: 0.0266 - val_accuracy: 0.9933\n",
      "Epoch 14/20\n",
      " - 112s - loss: 0.0549 - accuracy: 0.9843 - val_loss: 0.0334 - val_accuracy: 0.9910\n",
      "Epoch 15/20\n",
      " - 111s - loss: 0.0555 - accuracy: 0.9846 - val_loss: 0.0265 - val_accuracy: 0.9929\n",
      "Epoch 16/20\n",
      " - 111s - loss: 0.0576 - accuracy: 0.9835 - val_loss: 0.0273 - val_accuracy: 0.9921\n",
      "Epoch 17/20\n",
      " - 110s - loss: 0.0579 - accuracy: 0.9842 - val_loss: 0.0247 - val_accuracy: 0.9936\n",
      "Epoch 18/20\n",
      " - 10615s - loss: 0.0554 - accuracy: 0.9844 - val_loss: 0.0336 - val_accuracy: 0.9917\n",
      "Epoch 19/20\n",
      " - 137s - loss: 0.0606 - accuracy: 0.9835 - val_loss: 0.0402 - val_accuracy: 0.9902\n",
      "Epoch 20/20\n",
      " - 150s - loss: 0.0570 - accuracy: 0.9834 - val_loss: 0.0238 - val_accuracy: 0.9931\n"
     ]
    }
   ],
   "source": [
    "history = model.fit_generator(IDG.flow(X_train,Y_train, batch_size=batch_size),\n",
    "                              epochs = epochs, validation_data = (X_val,Y_val),\n",
    "                              verbose = 2, steps_per_epoch=X_train.shape[0] // batch_size)"
   ]
  },
  {
   "cell_type": "code",
   "execution_count": 20,
   "metadata": {},
   "outputs": [
    {
     "name": "stdout",
     "output_type": "stream",
     "text": [
      "dict_keys(['val_loss', 'val_accuracy', 'loss', 'accuracy'])\n"
     ]
    },
    {
     "data": {
      "image/png": "[encoded data removed]",
      "text/plain": [
       "<Figure size 432x288 with 1 Axes>"
      ]
     },
     "metadata": {
      "needs_background": "light"
     },
     "output_type": "display_data"
    }
   ],
   "source": [
    "import matplotlib.pyplot as plt\n",
    "%matplotlib inline\n",
    "print(history.history.keys())\n",
    "# summarize history for accuracy\n",
    "plt.plot(history.history['accuracy'])\n",
    "plt.plot(history.history['val_accuracy'])\n",
    "plt.title('model accuracy')\n",
    "plt.ylabel('accuracy')\n",
    "plt.xlabel('epoch')\n",
    "plt.legend(['train', 'test'], loc='upper left')\n",
    "plt.show()"
   ]
  },
  {
   "cell_type": "code",
   "execution_count": null,
   "metadata": {},
   "outputs": [],
   "source": []
  }
 ],
 "metadata": {
  "kernelspec": {
   "display_name": "Python 3",
   "language": "python",
   "name": "python3"
  },
  "language_info": {
   "codemirror_mode": {
    "name": "ipython",
    "version": 3
   },
   "file_extension": ".py",
   "mimetype": "text/x-python",
   "name": "python",
   "nbconvert_exporter": "python",
   "pygments_lexer": "ipython3",
   "version": "3.7.3"
  }
 },
 "nbformat": 4,
 "nbformat_minor": 2
}
